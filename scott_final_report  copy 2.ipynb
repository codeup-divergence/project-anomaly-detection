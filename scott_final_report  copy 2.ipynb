{
 "cells": [
  {
   "cell_type": "markdown",
   "id": "7c9298ea-d17c-4b5a-8bc6-6cf1727ade7d",
   "metadata": {},
   "source": [
    "\n",
    "# Final Report\n",
    "## Anomoly Detection Project\n",
    "* Corey Hermesch\n",
    "* Scott Barnett"
   ]
  },
  {
   "cell_type": "markdown",
   "id": "3bc23e11-8e2e-4a48-a6bb-78996e908d56",
   "metadata": {},
   "source": [
    "## Goals\n",
    "* Find the answers to the provided questions\n",
    "* Deliver a final report to the data science team \n",
    "* Deliver a slide of findings to the Data Science team"
   ]
  },
  {
   "cell_type": "markdown",
   "id": "771ff34b-4b39-46ec-9e72-893a4ed8b369",
   "metadata": {
    "jp-MarkdownHeadingCollapsed": true,
    "tags": []
   },
   "source": [
    "## Imports"
   ]
  },
  {
   "cell_type": "code",
   "execution_count": 1,
   "id": "938f8785-6d6f-4df7-b121-6578d6cd045e",
   "metadata": {},
   "outputs": [],
   "source": [
    "import warnings\n",
    "warnings.filterwarnings(\"ignore\")\n",
    "import pandas as pd\n",
    "import numpy as np\n",
    "import math\n",
    "import matplotlib.pyplot as plt\n",
    "import seaborn as sns\n",
    "from pydataset import data\n",
    "import scipy.stats as stats\n",
    "import seaborn as sns\n",
    "import env\n",
    "import os\n",
    "\n",
    "import sklearn\n",
    "from sklearn.metrics import accuracy_score\n",
    "from sklearn.metrics import recall_score\n",
    "from sklearn.metrics import mutual_info_score\n",
    "from sklearn.model_selection import train_test_split\n",
    "\n",
    "from sklearn.metrics import classification_report, confusion_matrix, plot_confusion_matrix\n",
    "import acquire\n",
    "import prepare\n",
    "import explore"
   ]
  },
  {
   "cell_type": "markdown",
   "id": "d2a7890d-065c-48df-9653-7e35f206e9a3",
   "metadata": {},
   "source": [
    "## Acquire\n",
    "\n",
    "* Data acquired from \n",
    "    * \n",
    "    * Files were concated \n",
    "* It contained *****SHAPE****** rows and  columns\n",
    "* The data was aquired on 14 JUNE 2023\n",
    "* Each row represents \n",
    "* Each column represents a feature of the \n"
   ]
  },
  {
   "cell_type": "markdown",
   "id": "c910c06f-78c6-43eb-8448-086c4d8e05da",
   "metadata": {
    "tags": []
   },
   "source": [
    "## Prepare\n",
    "\n",
    "* Initial preperation\n",
    "    \n"
   ]
  },
  {
   "cell_type": "markdown",
   "id": "f0e59c79-77be-4df4-8068-f920443a89f1",
   "metadata": {},
   "source": [
    "### Data Dictionary"
   ]
  },
  {
   "cell_type": "markdown",
   "id": "32facd0e-082e-4cff-a186-c2534977de78",
   "metadata": {},
   "source": []
  },
  {
   "cell_type": "markdown",
   "id": "7b4d21e0-248c-459f-848c-ba82b6dc612b",
   "metadata": {},
   "source": [
    "### Bring in Data for Exploration"
   ]
  },
  {
   "cell_type": "code",
   "execution_count": null,
   "id": "82b55ba1-fa0b-4898-8161-35c3b922e48e",
   "metadata": {},
   "outputs": [],
   "source": []
  },
  {
   "cell_type": "markdown",
   "id": "d20ea549-d03b-4671-aaf0-2fac30ea4d0e",
   "metadata": {},
   "source": [
    "### Sneak Peak at the Data\n"
   ]
  },
  {
   "cell_type": "code",
   "execution_count": null,
   "id": "e52be9b6-cd07-43ed-a13b-48c4f8b9a659",
   "metadata": {},
   "outputs": [],
   "source": [
    "df.head(3)"
   ]
  },
  {
   "cell_type": "markdown",
   "id": "fc2c096e-d449-4973-82a6-b9631eaff7a4",
   "metadata": {},
   "source": [
    "### Summary of Data"
   ]
  },
  {
   "cell_type": "code",
   "execution_count": null,
   "id": "753af9a8-b82b-47e2-9076-326184f44731",
   "metadata": {},
   "outputs": [],
   "source": [
    "df.describe()"
   ]
  },
  {
   "cell_type": "markdown",
   "id": "8d2f6eeb-6226-4091-a869-56950471443d",
   "metadata": {},
   "source": [
    "## Exploration"
   ]
  },
  {
   "cell_type": "markdown",
   "id": "ff2352d5-1b7d-403a-9fef-a4b7981220f7",
   "metadata": {},
   "source": [
    "* All features independently evaluated against wine quality\n"
   ]
  },
  {
   "cell_type": "markdown",
   "id": "f4410da8-55bc-4b3f-bad7-04b1188e60e3",
   "metadata": {},
   "source": [
    "### 1. Which lesson appears to attract the most traffic consistently across cohorts (per program)?"
   ]
  },
  {
   "cell_type": "code",
   "execution_count": 1,
   "id": "d96f2084-f1df-49cd-940e-b39912484a55",
   "metadata": {},
   "outputs": [],
   "source": [
    "# Get visualizaions\n"
   ]
  },
  {
   "cell_type": "markdown",
   "id": "adf54ddb-4e56-4261-ae34-edf219e68783",
   "metadata": {
    "tags": []
   },
   "source": [
    "#### Charting Observations: \n",
    "* The "
   ]
  },
  {
   "cell_type": "markdown",
   "id": "af9f6edf-f09c-4a95-8199-5d0649f54a35",
   "metadata": {},
   "source": [
    "#### Result\n"
   ]
  },
  {
   "cell_type": "markdown",
   "id": "32f2fd68-bee8-443b-bd6a-3e086245332f",
   "metadata": {},
   "source": [
    "### 2. Is there a cohort that referred to a lesson significantly more than other cohorts seemed to gloss over?"
   ]
  },
  {
   "cell_type": "code",
   "execution_count": 4,
   "id": "4499b706-c3fb-42bd-81a0-2574b1c0ffc6",
   "metadata": {},
   "outputs": [],
   "source": [
    "# Get visualizaions\n"
   ]
  },
  {
   "cell_type": "markdown",
   "id": "e34ea7b4-665e-4122-a668-291e48a928ca",
   "metadata": {
    "tags": []
   },
   "source": [
    "#### Charting Observations: \n",
    "* The "
   ]
  },
  {
   "cell_type": "markdown",
   "id": "a8addbd1-4bd7-4e8d-a31f-ef85d85ff665",
   "metadata": {},
   "source": [
    "#### Result\n",
    "Based on the results "
   ]
  },
  {
   "cell_type": "markdown",
   "id": "64726d7d-8fff-4083-8411-b0f6f7f5ce43",
   "metadata": {},
   "source": [
    "### 3. Are there students who, when active, hardly access the curriculum? If so, what information do you have about these students?"
   ]
  },
  {
   "cell_type": "code",
   "execution_count": 5,
   "id": "b3834665-74fb-41fc-aa4e-b02921d651d6",
   "metadata": {},
   "outputs": [],
   "source": [
    "# Get visualizaions\n"
   ]
  },
  {
   "cell_type": "markdown",
   "id": "ea54d254-8b85-41b4-9335-fcdc076cb996",
   "metadata": {
    "tags": []
   },
   "source": [
    "#### Charting Observations: \n",
    "* The "
   ]
  },
  {
   "cell_type": "markdown",
   "id": "9390f3f9-df5e-4f7c-a040-5ba798c69f74",
   "metadata": {},
   "source": [
    "#### Result\n",
    "Based on the results of the statistics and the observation of the chart, the number of bedrooms the home has is statisically relevant and will have some positive impact on the model."
   ]
  },
  {
   "cell_type": "markdown",
   "id": "cfa04963-0b3f-4ba3-8e3f-84c0fc4717f9",
   "metadata": {
    "tags": []
   },
   "source": [
    "### 4. Is there any suspicious activity, such as users/machines/etc accessing the curriculum who shouldn’t be? Does it appear that any web-scraping is happening? Are there any suspicious IP addresses?"
   ]
  },
  {
   "cell_type": "code",
   "execution_count": 8,
   "id": "7e76c1fa-4395-469e-a6fe-f538f1902fad",
   "metadata": {},
   "outputs": [],
   "source": [
    "# Get visualizaions\n"
   ]
  },
  {
   "cell_type": "markdown",
   "id": "38644e18-2e7d-4daf-941a-0d3e74185812",
   "metadata": {},
   "source": [
    "#### Chart Observations: \n",
    "* "
   ]
  },
  {
   "cell_type": "markdown",
   "id": "b57943d2-3edd-46de-8a43-b85c9ffb0c0d",
   "metadata": {},
   "source": [
    "#### Result\n",
    "* Based on the results of the statistics and the observation of the chart, the lot size is statisically relevant and will have some positive impact on the model."
   ]
  },
  {
   "cell_type": "markdown",
   "id": "12cd6986-bffb-4f57-96bd-3897a855b504",
   "metadata": {},
   "source": [
    "### 5. At some point in 2019, the ability for students and alumni to access both curriculums (web dev to ds, ds to web dev) should have been shut off. Do you see any evidence of that happening? Did it happen before?"
   ]
  },
  {
   "cell_type": "markdown",
   "id": "03933b4a-a65c-4840-a295-c13beac00edc",
   "metadata": {},
   "source": [
    "### 6. What topics are grads continuing to reference after graduation and into their jobs (for each program)?"
   ]
  },
  {
   "cell_type": "markdown",
   "id": "79cb3115-2e4b-4b4b-9cec-05910031d8d3",
   "metadata": {},
   "source": [
    "### 7. Which lessons are least accessed?"
   ]
  },
  {
   "cell_type": "markdown",
   "id": "0ce11bd7-c13e-47dd-ba56-395885e85b6f",
   "metadata": {},
   "source": [
    "### 8. Anything else I should be aware of?"
   ]
  },
  {
   "cell_type": "code",
   "execution_count": null,
   "id": "f5d02794-a06d-4949-bfdb-9e35522423fc",
   "metadata": {},
   "outputs": [],
   "source": []
  },
  {
   "cell_type": "markdown",
   "id": "593736ce-4878-4340-b518-c74002fff7df",
   "metadata": {},
   "source": [
    "## Exploration Summary\n",
    "* All t"
   ]
  },
  {
   "cell_type": "markdown",
   "id": "5400eb4b-252e-42b1-b6a6-13ae4cdd699c",
   "metadata": {},
   "source": []
  },
  {
   "cell_type": "code",
   "execution_count": 6,
   "id": "a214b0b1-aa98-4447-b24f-1c9ab98919c8",
   "metadata": {},
   "outputs": [],
   "source": [
    "# getting chart to provide the context of the target variable showing distribution of the values and baseline\n"
   ]
  },
  {
   "cell_type": "markdown",
   "id": "2e9ef6dd-7a7e-40e8-90e3-52fbb6246213",
   "metadata": {},
   "source": [
    "## Conclusion\n",
    "\n",
    "### Summary\n",
    "* \n",
    "* \n",
    "* \n",
    "* \n",
    "### Recommendations\n",
    "* \n",
    "* \n",
    "\n",
    "### Next Steps\n",
    "* If provided more time to work on the project "
   ]
  },
  {
   "cell_type": "code",
   "execution_count": null,
   "id": "411ae7a4-00b8-4623-a1e1-ddc644197a30",
   "metadata": {},
   "outputs": [],
   "source": []
  }
 ],
 "metadata": {
  "kernelspec": {
   "display_name": "Python 3 (ipykernel)",
   "language": "python",
   "name": "python3"
  },
  "language_info": {
   "codemirror_mode": {
    "name": "ipython",
    "version": 3
   },
   "file_extension": ".py",
   "mimetype": "text/x-python",
   "name": "python",
   "nbconvert_exporter": "python",
   "pygments_lexer": "ipython3",
   "version": "3.9.13"
  },
  "toc-autonumbering": false
 },
 "nbformat": 4,
 "nbformat_minor": 5
}
